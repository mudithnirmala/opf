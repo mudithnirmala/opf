{
  "nbformat": 4,
  "nbformat_minor": 0,
  "metadata": {
    "accelerator": "GPU",
    "colab": {
      "name": "Mudith OPF.ipynb",
      "provenance": [],
      "collapsed_sections": [],
      "toc_visible": true,
      "mount_file_id": "1U0QcyUColWVidLpsiK3WQGibTNrFq9gq",
      "authorship_tag": "ABX9TyOg/DQ+C+YxoWSPjb1SdHA5",
      "include_colab_link": true
    },
    "kernelspec": {
      "display_name": "Python 3",
      "name": "python3"
    },
    "language_info": {
      "name": "python"
    }
  },
  "cells": [
    {
      "cell_type": "markdown",
      "metadata": {
        "id": "view-in-github",
        "colab_type": "text"
      },
      "source": [
        "<a href=\"https://colab.research.google.com/github/mudithnirmala/opf/blob/main/Mudith_OPF.ipynb\" target=\"_parent\"><img src=\"https://colab.research.google.com/assets/colab-badge.svg\" alt=\"Open In Colab\"/></a>"
      ]
    },
    {
      "cell_type": "code",
      "metadata": {
        "colab": {
          "base_uri": "https://localhost:8080/"
        },
        "id": "hl_6H0FXp2tp",
        "outputId": "79617a87-4150-4d43-c065-d4fcfb588e83"
      },
      "source": [
        "%cd drive/MyDrive/codes"
      ],
      "execution_count": null,
      "outputs": [
        {
          "output_type": "stream",
          "text": [
            "[Errno 2] No such file or directory: 'drive/MyDrive/codes'\n",
            "/content/drive/MyDrive/codes\n"
          ],
          "name": "stdout"
        }
      ]
    },
    {
      "cell_type": "markdown",
      "source": [
        "# New Section"
      ],
      "metadata": {
        "id": "hLgt21ySTwsE"
      }
    },
    {
      "cell_type": "code",
      "metadata": {
        "colab": {
          "base_uri": "https://localhost:8080/"
        },
        "id": "QbCwZVM0qbFz",
        "outputId": "95910d3c-4422-45d9-b839-903577afc4f9"
      },
      "source": [
        "!./install.sh"
      ],
      "execution_count": null,
      "outputs": [
        {
          "output_type": "stream",
          "text": [
            "/bin/bash: ./install.sh: Permission denied\n"
          ],
          "name": "stdout"
        }
      ]
    },
    {
      "cell_type": "code",
      "metadata": {
        "colab": {
          "base_uri": "https://localhost:8080/"
        },
        "id": "mzr82lJhrsH-",
        "outputId": "b6f01a94-a10a-4b33-874e-e071a71069b1"
      },
      "source": [
        "%cd drive/MyDrive/codes/OPF/opf"
      ],
      "execution_count": null,
      "outputs": [
        {
          "output_type": "stream",
          "text": [
            "[Errno 2] No such file or directory: 'drive/MyDrive/codes/OPF/opf'\n",
            "/content/drive/My Drive/codes/OPF\n"
          ],
          "name": "stdout"
        }
      ]
    },
    {
      "cell_type": "code",
      "metadata": {
        "colab": {
          "base_uri": "https://localhost:8080/"
        },
        "id": "q4Pd3A3Sr4kg",
        "outputId": "a26d054d-a653-46e0-a26c-3a6765971c93"
      },
      "source": [
        "!pip install numba\n",
        "!pip install skorch\n",
        "!pip install pandapower\n",
        "!pip install hdf5storage"
      ],
      "execution_count": null,
      "outputs": [
        {
          "output_type": "stream",
          "text": [
            "Requirement already satisfied: numba in /usr/local/lib/python3.7/dist-packages (0.51.2)\n",
            "Requirement already satisfied: numpy>=1.15 in /usr/local/lib/python3.7/dist-packages (from numba) (1.19.5)\n",
            "Requirement already satisfied: llvmlite<0.35,>=0.34.0.dev0 in /usr/local/lib/python3.7/dist-packages (from numba) (0.34.0)\n",
            "Requirement already satisfied: setuptools in /usr/local/lib/python3.7/dist-packages (from numba) (57.0.0)\n",
            "Requirement already satisfied: skorch in /usr/local/lib/python3.7/dist-packages (0.10.0)\n",
            "Requirement already satisfied: scikit-learn>=0.19.1 in /usr/local/lib/python3.7/dist-packages (from skorch) (0.22.2.post1)\n",
            "Requirement already satisfied: scipy>=1.1.0 in /usr/local/lib/python3.7/dist-packages (from skorch) (1.4.1)\n",
            "Requirement already satisfied: tabulate>=0.7.7 in /usr/local/lib/python3.7/dist-packages (from skorch) (0.8.9)\n",
            "Requirement already satisfied: numpy>=1.13.3 in /usr/local/lib/python3.7/dist-packages (from skorch) (1.19.5)\n",
            "Requirement already satisfied: tqdm>=4.14.0 in /usr/local/lib/python3.7/dist-packages (from skorch) (4.41.1)\n",
            "Requirement already satisfied: joblib>=0.11 in /usr/local/lib/python3.7/dist-packages (from scikit-learn>=0.19.1->skorch) (1.0.1)\n",
            "Requirement already satisfied: pandapower in /usr/local/lib/python3.7/dist-packages (2.6.0)\n",
            "Requirement already satisfied: scipy<=1.6.0 in /usr/local/lib/python3.7/dist-packages (from pandapower) (1.4.1)\n",
            "Requirement already satisfied: cryptography in /usr/local/lib/python3.7/dist-packages (from pandapower) (3.4.7)\n",
            "Requirement already satisfied: xlrd in /usr/local/lib/python3.7/dist-packages (from pandapower) (1.1.0)\n",
            "Requirement already satisfied: packaging in /usr/local/lib/python3.7/dist-packages (from pandapower) (20.9)\n",
            "Requirement already satisfied: xlsxwriter in /usr/local/lib/python3.7/dist-packages (from pandapower) (1.4.3)\n",
            "Requirement already satisfied: numpy>=0.11 in /usr/local/lib/python3.7/dist-packages (from pandapower) (1.19.5)\n",
            "Requirement already satisfied: pandas>=0.17 in /usr/local/lib/python3.7/dist-packages (from pandapower) (1.1.5)\n",
            "Requirement already satisfied: networkx in /usr/local/lib/python3.7/dist-packages (from pandapower) (2.5.1)\n",
            "Requirement already satisfied: openpyxl in /usr/local/lib/python3.7/dist-packages (from pandapower) (2.5.9)\n",
            "Requirement already satisfied: cffi>=1.12 in /usr/local/lib/python3.7/dist-packages (from cryptography->pandapower) (1.14.5)\n",
            "Requirement already satisfied: pyparsing>=2.0.2 in /usr/local/lib/python3.7/dist-packages (from packaging->pandapower) (2.4.7)\n",
            "Requirement already satisfied: python-dateutil>=2.7.3 in /usr/local/lib/python3.7/dist-packages (from pandas>=0.17->pandapower) (2.8.1)\n",
            "Requirement already satisfied: pytz>=2017.2 in /usr/local/lib/python3.7/dist-packages (from pandas>=0.17->pandapower) (2018.9)\n",
            "Requirement already satisfied: decorator<5,>=4.3 in /usr/local/lib/python3.7/dist-packages (from networkx->pandapower) (4.4.2)\n",
            "Requirement already satisfied: et-xmlfile in /usr/local/lib/python3.7/dist-packages (from openpyxl->pandapower) (1.1.0)\n",
            "Requirement already satisfied: jdcal in /usr/local/lib/python3.7/dist-packages (from openpyxl->pandapower) (1.4.1)\n",
            "Requirement already satisfied: pycparser in /usr/local/lib/python3.7/dist-packages (from cffi>=1.12->cryptography->pandapower) (2.20)\n",
            "Requirement already satisfied: six>=1.5 in /usr/local/lib/python3.7/dist-packages (from python-dateutil>=2.7.3->pandas>=0.17->pandapower) (1.15.0)\n",
            "Requirement already satisfied: hdf5storage in /usr/local/lib/python3.7/dist-packages (0.1.18)\n",
            "Requirement already satisfied: h5py>=2.1; python_version >= \"3.3\" in /usr/local/lib/python3.7/dist-packages (from hdf5storage) (3.1.0)\n",
            "Requirement already satisfied: numpy; python_version >= \"3.4\" in /usr/local/lib/python3.7/dist-packages (from hdf5storage) (1.19.5)\n",
            "Requirement already satisfied: cached-property; python_version < \"3.8\" in /usr/local/lib/python3.7/dist-packages (from h5py>=2.1; python_version >= \"3.3\"->hdf5storage) (1.5.2)\n"
          ],
          "name": "stdout"
        }
      ]
    },
    {
      "cell_type": "code",
      "metadata": {
        "colab": {
          "base_uri": "https://localhost:8080/"
        },
        "id": "iQNDw1aisO9O",
        "outputId": "05ad3ed3-0b68-4afd-8577-26e9a4cf9762"
      },
      "source": [
        "!python3 opf/wrapper.py"
      ],
      "execution_count": null,
      "outputs": [
        {
          "output_type": "stream",
          "text": [
            "This pandapower network includes the following parameter tables:\n",
            "   - bus (30 elements)\n",
            "   - load (20 elements)\n",
            "   - gen (5 elements)\n",
            "   - shunt (2 elements)\n",
            "   - ext_grid (1 element)\n",
            "   - line (41 elements)\n",
            "   - poly_cost (6 elements)\n",
            "   - bus_geodata (30 elements)\n",
            "  epoch     rms    train_loss    valid_loss     dur\n",
            "-------  ------  ------------  ------------  ------\n",
            "      1  \u001b[36m0.1500\u001b[0m       \u001b[32m72.9461\u001b[0m       \u001b[35m27.4004\u001b[0m  0.5511\n",
            "      2  0.1515       \u001b[32m26.5608\u001b[0m       28.1285  0.5399\n",
            "      3  0.1507       26.5627       27.8573  0.5462\n",
            "      4  0.1526       \u001b[32m26.2464\u001b[0m       28.7585  0.5471\n",
            "      5  0.1607       \u001b[32m25.6139\u001b[0m       32.1793  0.5417\n",
            "      6  \u001b[36m0.1266\u001b[0m       \u001b[32m23.0393\u001b[0m       \u001b[35m19.9259\u001b[0m  0.5452\n",
            "      7  \u001b[36m0.1019\u001b[0m       \u001b[32m15.5187\u001b[0m       \u001b[35m12.6683\u001b[0m  0.5420\n",
            "      8  \u001b[36m0.0910\u001b[0m       \u001b[32m13.2411\u001b[0m       \u001b[35m10.2130\u001b[0m  0.5410\n",
            "      9  \u001b[36m0.0854\u001b[0m       \u001b[32m11.9813\u001b[0m        \u001b[35m9.0065\u001b[0m  0.5422\n",
            "     10  0.0941        \u001b[32m9.9529\u001b[0m       10.9486  0.5440\n",
            "     11  0.0927       10.4286       10.5201  0.5311\n",
            "     12  0.1065        \u001b[32m8.1376\u001b[0m       13.4972  0.5490\n",
            "     13  0.0866        8.2054        9.0709  0.5450\n",
            "     14  \u001b[36m0.0831\u001b[0m        9.7276        \u001b[35m8.3510\u001b[0m  0.5646\n",
            "     15  0.0952        \u001b[32m7.1053\u001b[0m       10.9225  0.5427\n",
            "     16  0.0965        \u001b[32m6.9764\u001b[0m       11.0673  0.5424\n",
            "     17  0.0898        \u001b[32m5.9177\u001b[0m        9.6888  0.5404\n",
            "     18  \u001b[36m0.0642\u001b[0m        \u001b[32m5.6591\u001b[0m        \u001b[35m5.0219\u001b[0m  0.5553\n",
            "     19  \u001b[36m0.0612\u001b[0m        5.8316        \u001b[35m4.5705\u001b[0m  0.5277\n",
            "     20  0.0737        \u001b[32m4.6830\u001b[0m        6.4587  0.5441\n",
            "     21  0.0744        5.2288        6.6709  0.5436\n",
            "     22  0.0627        \u001b[32m3.6700\u001b[0m        4.7402  0.5592\n",
            "     23  0.0733        4.1924        6.4255  0.5492\n",
            "     24  0.0682        \u001b[32m3.6050\u001b[0m        5.5777  0.5334\n",
            "     25  \u001b[36m0.0512\u001b[0m        \u001b[32m3.5646\u001b[0m        \u001b[35m3.1844\u001b[0m  0.5452\n",
            "     26  0.0539        \u001b[32m3.2854\u001b[0m        3.5252  0.5353\n",
            "     27  0.0577        5.5092        4.1143  0.5458\n",
            "     28  0.0658        \u001b[32m3.1596\u001b[0m        5.2173  0.5504\n",
            "     29  0.0650        5.2044        5.2122  0.5521\n",
            "     30  0.0551        4.1563        3.6954  0.5414\n",
            "     31  \u001b[36m0.0487\u001b[0m        3.4253        \u001b[35m2.9006\u001b[0m  0.5411\n",
            "     32  \u001b[36m0.0405\u001b[0m        3.2774        \u001b[35m2.0540\u001b[0m  0.5381\n",
            "     33  0.0499        5.5703        3.0669  0.5569\n",
            "     34  0.0629        \u001b[32m2.8899\u001b[0m        4.7616  0.5626\n",
            "     35  0.0733        \u001b[32m2.7512\u001b[0m        6.5198  0.5337\n",
            "     36  0.0812        5.8095        8.0922  0.5356\n",
            "     37  0.0769        4.9634        7.1616  0.5388\n",
            "     38  0.0739        3.1972        6.6156  0.5447\n",
            "     39  0.0598        3.8453        4.3609  0.5331\n",
            "     40  0.0551        2.8744        3.7049  0.5377\n",
            "     41  0.0594        \u001b[32m2.3939\u001b[0m        4.3023  0.5527\n",
            "     42  0.0612        2.8671        4.5656  0.5412\n",
            "     43  0.0440        3.5677        2.3899  0.5397\n",
            "     44  0.0452        \u001b[32m1.5709\u001b[0m        2.5126  0.5617\n",
            "     45  \u001b[36m0.0340\u001b[0m        3.5057        \u001b[35m1.4513\u001b[0m  0.5548\n",
            "     46  0.0385        1.6482        1.8269  0.5394\n",
            "     47  0.0374        3.0991        1.7231  0.5452\n",
            "     48  0.0362        \u001b[32m1.4338\u001b[0m        1.6139  0.5464\n",
            "     49  \u001b[36m0.0307\u001b[0m        1.9192        \u001b[35m1.1693\u001b[0m  0.5536\n",
            "     50  0.0410        \u001b[32m1.3607\u001b[0m        2.0587  0.5447\n",
            "     51  0.0315        2.2605        1.2273  0.5499\n",
            "     52  0.0350        1.4637        1.5006  0.5541\n",
            "     53  0.0320        1.9561        1.2649  0.5745\n",
            "     54  0.0336        2.2565        1.3883  0.5422\n",
            "     55  0.0357        1.6071        1.5606  0.5417\n",
            "     56  \u001b[36m0.0278\u001b[0m        1.7468        \u001b[35m0.9564\u001b[0m  0.5619\n",
            "     57  0.0301        2.0631        1.1192  0.5687\n",
            "     58  0.0338        2.3751        1.3890  0.6453\n",
            "     59  0.0334        1.4487        1.3675  0.5374\n",
            "     60  0.0491        1.3817        2.9308  0.5553\n",
            "     61  0.0312        1.6685        1.1951  0.5608\n",
            "     62  \u001b[36m0.0277\u001b[0m        \u001b[32m1.2030\u001b[0m        \u001b[35m0.9529\u001b[0m  0.5760\n",
            "     63  0.0349        3.5489        1.5151  0.5652\n",
            "     64  \u001b[36m0.0260\u001b[0m        2.9983        \u001b[35m0.8484\u001b[0m  0.5617\n",
            "     65  0.0316        1.6295        1.2320  0.5671\n",
            "     66  0.0399        1.7315        1.9351  0.5410\n",
            "     67  0.0290        \u001b[32m1.1247\u001b[0m        1.0322  0.5541\n",
            "     68  0.0392        1.7242        1.8847  0.5464\n",
            "     69  0.0320        1.4134        1.2527  0.5372\n",
            "     70  0.0455        1.3050        2.5207  0.5457\n",
            "     71  \u001b[36m0.0253\u001b[0m        1.6391        \u001b[35m0.7943\u001b[0m  0.5513\n",
            "     72  0.0644        1.9734        4.9563  0.5531\n",
            "     73  0.0307        1.2694        1.1584  0.5420\n",
            "     74  \u001b[36m0.0236\u001b[0m        1.1943        \u001b[35m0.6864\u001b[0m  0.5401\n",
            "     75  \u001b[36m0.0207\u001b[0m        \u001b[32m0.9845\u001b[0m        \u001b[35m0.5366\u001b[0m  0.5373\n",
            "     76  0.0464        1.2563        2.6265  0.5430\n",
            "     77  0.0488        1.7505        2.8515  0.5482\n",
            "     78  0.0426        1.2496        2.2072  0.5373\n",
            "     79  \u001b[36m0.0206\u001b[0m        1.4957        0.5395  0.5372\n",
            "     80  0.0229        \u001b[32m0.8659\u001b[0m        0.6486  0.5478\n",
            "     81  0.0231        1.0925        0.6581  0.5424\n",
            "     82  0.0209        1.0148        0.5457  0.5415\n",
            "     83  0.0248        1.2258        0.7531  0.5397\n",
            "     84  0.0372        1.5946        1.7165  0.5390\n",
            "     85  0.0213        1.0764        0.5676  0.5507\n",
            "     86  0.0231        1.0533        0.6624  0.5505\n",
            "     87  0.0479        1.4011        2.7756  0.5410\n",
            "     88  0.0258        1.0290        0.8193  0.5464\n",
            "     89  0.0276        1.0243        0.9320  0.5424\n",
            "     90  0.0545        1.1964        3.7679  0.5738\n",
            "     91  0.0220        1.1270        0.6029  0.5409\n",
            "     92  0.0223        0.8944        0.6150  0.5452\n",
            "     93  0.0221        \u001b[32m0.8443\u001b[0m        0.6068  0.5407\n",
            "     94  0.0290        1.1862        1.0290  0.5615\n",
            "     95  0.0244        1.4002        0.7593  0.5590\n",
            "     96  0.0277        1.8026        0.9737  0.5410\n",
            "     97  0.0270        \u001b[32m0.7521\u001b[0m        0.9019  0.5649\n",
            "     98  0.0442        0.7921        2.3961  0.5501\n",
            "     99  0.0301        1.1821        1.1054  0.5472\n",
            "    100  0.0328        1.5298        1.3614  0.5407\n",
            "    101  0.0217        1.0780        0.5853  0.5440\n",
            "    102  0.0494        1.2653        2.9399  0.5477\n",
            "    103  0.0225        0.8084        0.6283  0.5477\n",
            "    104  0.0290        1.5208        1.0358  0.5585\n",
            "    105  0.0312        1.2197        1.1792  0.5493\n",
            "    106  0.0303        1.1448        1.1375  0.5483\n",
            "    107  0.0544        1.1549        3.5662  0.5439\n",
            "    108  0.0492        1.1687        2.9688  0.5556\n",
            "    109  0.0509        1.4441        3.1615  0.5622\n",
            "    110  0.0333        1.0067        1.3662  0.5791\n",
            "    111  \u001b[36m0.0192\u001b[0m        0.8867        \u001b[35m0.4569\u001b[0m  0.5536\n",
            "    112  0.0437        1.5741        2.4219  0.5444\n",
            "    113  0.0244        1.0116        0.7328  0.5530\n",
            "    114  0.0584        1.5979        4.0583  0.5591\n",
            "    115  0.0249        1.1445        0.7750  0.5401\n",
            "    116  0.0422        \u001b[32m0.7468\u001b[0m        2.1567  0.5499\n",
            "    117  0.0296        1.4201        1.1153  0.5366\n",
            "    118  0.0375        0.9056        1.6967  0.5477\n",
            "    119  0.0351        0.7881        1.5059  0.5385\n",
            "    120  0.0259        1.0254        0.8367  0.5570\n",
            "    121  0.0449        0.9624        2.4633  0.5557\n",
            "    122  0.0371        1.5797        1.6828  0.5361\n",
            "    123  0.0404        0.9482        2.0035  0.5547\n",
            "    124  0.0527        0.9219        3.3663  0.5364\n",
            "    125  0.0306        1.5252        1.1484  0.5666\n",
            "    126  0.0387        \u001b[32m0.6988\u001b[0m        1.8493  0.5597\n",
            "    127  0.0436        0.9920        2.3328  0.5654\n",
            "    128  0.0421        0.9650        2.1648  0.5468\n",
            "    129  0.0418        0.7823        2.1508  0.5327\n",
            "    130  0.0503        0.8873        3.1020  0.5430\n",
            "    131  0.0225        2.0409        0.6513  0.5376\n",
            "    132  0.0413        0.7488        2.0767  0.5408\n",
            "    133  0.0209        1.0562        0.5526  0.5496\n",
            "    134  0.0299        1.0758        1.1056  0.5463\n",
            "    135  0.0446        1.1795        2.3849  0.5393\n",
            "    136  0.0301        1.7723        1.1347  0.5545\n",
            "    137  0.0202        \u001b[32m0.6139\u001b[0m        0.4992  0.5446\n",
            "    138  0.0383        0.6865        1.7960  0.5415\n",
            "    139  0.0200        0.7984        0.4979  0.5666\n",
            "    140  0.0280        0.6992        0.9669  0.5485\n",
            "    141  0.0391        0.9184        1.8794  0.5479\n",
            "    142  0.0362        1.3702        1.5955  0.5432\n",
            "    143  0.0459        0.7262        2.5831  0.5552\n",
            "    144  0.0440        1.1791        2.3723  0.5573\n",
            "    145  0.0371        1.0307        1.6895  0.5469\n",
            "    146  0.0270        0.9525        0.9114  0.5582\n",
            "    147  0.0391        \u001b[32m0.5907\u001b[0m        1.8762  0.5440\n",
            "    148  0.0380        1.1250        1.7770  0.5446\n",
            "    149  0.0536        0.8755        3.5083  0.5480\n",
            "    150  0.0413        0.6978        2.0942  0.5425\n",
            "    151  0.0286        1.1774        1.0334  0.5421\n",
            "    152  \u001b[36m0.0191\u001b[0m        1.0264        \u001b[35m0.4544\u001b[0m  0.5402\n",
            "    153  0.0198        1.0235        0.4985  0.5564\n",
            "    154  0.0392        1.0735        1.8486  0.5408\n",
            "    155  0.0413        1.0066        2.0782  0.5418\n",
            "    156  0.0292        1.1598        1.0306  0.5494\n",
            "    157  0.0453        0.9258        2.5059  0.5445\n",
            "    158  0.0482        0.7762        2.8422  0.5656\n",
            "    159  0.0337        1.1582        1.3979  0.5469\n",
            "    160  0.0590        1.2782        4.2109  0.5559\n",
            "    161  0.0251        2.8354        0.8084  0.5318\n",
            "    162  0.0221        1.0015        0.6252  0.5348\n",
            "    163  0.0298        0.8944        1.1022  0.5467\n",
            "    164  0.0199        1.0884        0.5043  0.5367\n",
            "    165  0.0225        0.8345        0.6348  0.5367\n",
            "    166  0.0316        0.9339        1.2552  0.5447\n",
            "    167  0.0267        0.9437        0.8981  0.5468\n",
            "    168  0.0282        0.8355        0.9612  0.5533\n",
            "    169  0.0283        0.9967        1.0009  0.5471\n",
            "    170  0.0233        0.7326        0.6681  0.5504\n",
            "    171  0.0242        0.7977        0.7156  0.5476\n",
            "    172  0.0278        0.8004        0.9346  0.5596\n",
            "    173  0.0396        0.7542        1.9341  0.5508\n",
            "    174  0.0268        0.9884        0.8818  0.5555\n",
            "    175  0.0261        0.9266        0.8393  0.5443\n",
            "    176  0.0363        0.8489        1.6127  0.5313\n",
            "    177  0.0410        0.8164        2.0714  0.5394\n",
            "    178  0.0316        1.0820        1.2326  0.5414\n",
            "    179  0.0218        0.8493        0.5972  0.5576\n",
            "    180  0.0250        0.8471        0.7746  0.5393\n",
            "    181  0.0399        0.9339        1.8976  0.5450\n",
            "    182  0.0551        1.2437        3.6801  0.5409\n",
            "    183  0.0226        1.3573        0.6267  0.5387\n",
            "    184  0.0267        0.7930        0.8782  0.5512\n",
            "    185  0.0252        0.7355        0.7616  0.5428\n",
            "    186  0.0222        0.9626        0.6249  0.5394\n",
            "    187  0.0276        0.7861        0.9120  0.5486\n",
            "    188  0.0246        0.8928        0.7376  0.5423\n",
            "    189  0.0302        0.8044        1.1050  0.5576\n",
            "    190  \u001b[36m0.0189\u001b[0m        1.0458        0.4619  0.5454\n",
            "    191  0.0428        0.6078        2.2596  0.5546\n",
            "    192  0.0287        0.8796        1.0151  0.5453\n",
            "    193  0.0322        \u001b[32m0.4437\u001b[0m        1.2871  0.5333\n",
            "    194  0.0423        0.6798        2.2167  0.5381\n",
            "    195  0.0207        0.9201        0.5371  0.5382\n",
            "    196  0.0286        1.0017        1.0213  0.5468\n",
            "    197  0.0346        0.9303        1.5034  0.5580\n",
            "    198  0.0314        0.8797        1.2149  0.5437\n",
            "    199  0.0389        0.8556        1.8187  0.5532\n",
            "    200  0.0501        0.9969        3.0550  0.5525\n",
            "Calculating violation rate.\n",
            "100% 1550/1550 [01:06<00:00, 23.36it/s]\n",
            "1550\n",
            "Cost ratio 1.0051142419022345 | Rate with violation 1550 | Violation Rate 0.012178466694595727\n",
            "RMS: 0.05077483505010605 | L1: 6.10424280166626 | Linf: 0.4094735085964203\n"
          ],
          "name": "stdout"
        }
      ]
    },
    {
      "cell_type": "code",
      "metadata": {
        "id": "dXN-OO5gsWYP"
      },
      "source": [
        "!export PYTHONPATH=$PYTHONPATH:$(pwd):$(pwd)/"
      ],
      "execution_count": null,
      "outputs": []
    },
    {
      "cell_type": "code",
      "metadata": {
        "id": "JMllkeLz3GXZ",
        "colab": {
          "base_uri": "https://localhost:8080/"
        },
        "outputId": "93d7f81e-17ad-4885-decc-284b46484c77"
      },
      "source": [
        "%cd drive/MyDrive/codes/OPF\n",
        "!Python3 opf/wrapper.py\n"
      ],
      "execution_count": null,
      "outputs": [
        {
          "output_type": "stream",
          "text": [
            "[Errno 2] No such file or directory: 'drive/MyDrive/codes/OPF'\n",
            "/content/drive/My Drive/codes/OPF\n",
            "/bin/bash: Python3: command not found\n"
          ],
          "name": "stdout"
        }
      ]
    },
    {
      "cell_type": "code",
      "metadata": {
        "colab": {
          "base_uri": "https://localhost:8080/"
        },
        "id": "xOdEAtQT2FYn",
        "outputId": "306c4c9f-8c04-4d45-effc-5a1a88130cf5"
      },
      "source": [
        "%ls"
      ],
      "execution_count": null,
      "outputs": [
        {
          "output_type": "stream",
          "text": [
            "add_paths  \u001b[0m\u001b[01;34mdata\u001b[0m/  \u001b[01;34mGNN\u001b[0m/  install.sh  \u001b[01;34mopf\u001b[0m/  \u001b[01;34mpaper\u001b[0m/  README.md\n"
          ],
          "name": "stdout"
        }
      ]
    },
    {
      "cell_type": "code",
      "metadata": {
        "id": "zyE4jt8jqe1L"
      },
      "source": [
        ""
      ],
      "execution_count": null,
      "outputs": []
    },
    {
      "cell_type": "code",
      "metadata": {
        "colab": {
          "base_uri": "https://localhost:8080/"
        },
        "id": "GdpaCOux245n",
        "outputId": "8f067fb5-fa34-4b6e-dd0c-cc0bf5de0f96"
      },
      "source": [
        "cd OPF\n"
      ],
      "execution_count": null,
      "outputs": [
        {
          "output_type": "stream",
          "text": [
            "[Errno 2] No such file or directory: 'OPF'\n",
            "/content/drive/My Drive/codes/OPF\n"
          ],
          "name": "stdout"
        }
      ]
    },
    {
      "cell_type": "code",
      "metadata": {
        "id": "8pcW4V_R3IYh",
        "colab": {
          "base_uri": "https://localhost:8080/"
        },
        "outputId": "faef7895-4e1d-49c9-8a90-ed2a8ab3b0b5"
      },
      "source": [
        "!python3 opf/wrapper.py\n"
      ],
      "execution_count": null,
      "outputs": [
        {
          "output_type": "stream",
          "text": [
            "This pandapower network includes the following parameter tables:\n",
            "   - bus (30 elements)\n",
            "   - load (20 elements)\n",
            "   - gen (5 elements)\n",
            "   - shunt (2 elements)\n",
            "   - ext_grid (1 element)\n",
            "   - line (41 elements)\n",
            "   - poly_cost (6 elements)\n",
            "   - bus_geodata (30 elements)\n",
            "  epoch     rms    train_loss    valid_loss     dur\n",
            "-------  ------  ------------  ------------  ------\n",
            "      1  \u001b[36m0.1464\u001b[0m      \u001b[32m121.5803\u001b[0m       \u001b[35m25.6519\u001b[0m  0.5402\n",
            "      2  0.1472       \u001b[32m26.9283\u001b[0m       25.8740  0.5349\n",
            "      3  0.1465       \u001b[32m26.9234\u001b[0m       25.6650  0.5406\n",
            "      4  \u001b[36m0.1460\u001b[0m       \u001b[32m26.9007\u001b[0m       \u001b[35m25.5008\u001b[0m  0.5447\n",
            "      5  \u001b[36m0.1454\u001b[0m       \u001b[32m26.8817\u001b[0m       \u001b[35m25.3749\u001b[0m  0.5393\n",
            "      6  \u001b[36m0.1451\u001b[0m       \u001b[32m26.8060\u001b[0m       \u001b[35m25.3440\u001b[0m  0.5741\n",
            "      7  \u001b[36m0.1441\u001b[0m       \u001b[32m26.6320\u001b[0m       \u001b[35m25.0645\u001b[0m  0.5326\n",
            "      8  \u001b[36m0.1407\u001b[0m       \u001b[32m26.0153\u001b[0m       \u001b[35m23.7226\u001b[0m  0.5496\n",
            "      9  \u001b[36m0.1274\u001b[0m       \u001b[32m24.3575\u001b[0m       \u001b[35m19.6161\u001b[0m  0.5301\n",
            "     10  \u001b[36m0.1030\u001b[0m       \u001b[32m18.3415\u001b[0m       \u001b[35m13.0216\u001b[0m  0.5365\n",
            "     11  \u001b[36m0.1009\u001b[0m       \u001b[32m17.1183\u001b[0m       \u001b[35m12.3177\u001b[0m  0.5265\n",
            "     12  \u001b[36m0.0928\u001b[0m       \u001b[32m13.2152\u001b[0m       \u001b[35m10.4402\u001b[0m  0.5394\n",
            "     13  0.1006       \u001b[32m11.5263\u001b[0m       12.0158  0.5279\n",
            "     14  0.0957       \u001b[32m10.9818\u001b[0m       10.9274  0.5397\n",
            "     15  \u001b[36m0.0812\u001b[0m       11.9862        \u001b[35m8.1141\u001b[0m  0.5292\n",
            "     16  0.0945       15.9068       10.7265  0.5332\n",
            "     17  0.0963        \u001b[32m9.3913\u001b[0m       11.5648  0.5281\n",
            "     18  \u001b[36m0.0752\u001b[0m        9.4221        \u001b[35m6.8984\u001b[0m  0.5368\n",
            "     19  \u001b[36m0.0700\u001b[0m        \u001b[32m8.6543\u001b[0m        \u001b[35m6.0137\u001b[0m  0.5486\n",
            "     20  \u001b[36m0.0666\u001b[0m        \u001b[32m8.0146\u001b[0m        \u001b[35m5.4690\u001b[0m  0.5406\n",
            "     21  \u001b[36m0.0637\u001b[0m        \u001b[32m7.4827\u001b[0m        \u001b[35m5.0082\u001b[0m  0.5299\n",
            "     22  \u001b[36m0.0602\u001b[0m        \u001b[32m6.7153\u001b[0m        \u001b[35m4.4897\u001b[0m  0.5484\n",
            "     23  0.0776        \u001b[32m6.3988\u001b[0m        7.5515  0.5260\n",
            "     24  0.0823        7.8034        8.4412  0.5422\n",
            "     25  0.0626        6.5475        4.7773  0.5348\n",
            "     26  \u001b[36m0.0598\u001b[0m        6.5964        \u001b[35m4.4190\u001b[0m  0.5277\n",
            "     27  \u001b[36m0.0587\u001b[0m        6.8782        \u001b[35m4.2036\u001b[0m  0.5445\n",
            "     28  0.0626        \u001b[32m5.8877\u001b[0m        4.8338  0.5308\n",
            "     29  0.0592        \u001b[32m4.9513\u001b[0m        4.3130  0.5371\n",
            "     30  \u001b[36m0.0527\u001b[0m        4.9675        \u001b[35m3.3695\u001b[0m  0.5409\n",
            "     31  \u001b[36m0.0490\u001b[0m        \u001b[32m4.8124\u001b[0m        \u001b[35m2.9281\u001b[0m  0.5315\n",
            "     32  0.0593        \u001b[32m4.4359\u001b[0m        4.3476  0.5205\n",
            "     33  0.0586        4.5538        4.1987  0.5362\n",
            "     34  0.0638        \u001b[32m3.7101\u001b[0m        5.0410  0.5289\n",
            "     35  0.0587        3.8880        4.2901  0.5406\n",
            "     36  0.0718        3.9196        6.3861  0.5329\n",
            "     37  \u001b[36m0.0425\u001b[0m        \u001b[32m3.3278\u001b[0m        \u001b[35m2.2622\u001b[0m  0.5332\n",
            "     38  \u001b[36m0.0378\u001b[0m        \u001b[32m2.9354\u001b[0m        \u001b[35m1.7909\u001b[0m  0.5339\n",
            "     39  0.0389        \u001b[32m2.9246\u001b[0m        1.8970  0.5338\n",
            "     40  0.0421        3.1599        2.1754  0.5487\n",
            "     41  \u001b[36m0.0329\u001b[0m        \u001b[32m2.8089\u001b[0m        \u001b[35m1.3585\u001b[0m  0.5633\n",
            "     42  0.0346        \u001b[32m2.6928\u001b[0m        1.5128  0.5393\n",
            "     43  0.0354        2.7727        1.5593  0.5255\n",
            "     44  0.0338        \u001b[32m2.5260\u001b[0m        1.4221  0.5368\n",
            "     45  0.0463        2.9226        2.5890  0.5327\n",
            "     46  0.0346        2.5864        1.5076  0.5273\n",
            "     47  \u001b[36m0.0320\u001b[0m        \u001b[32m2.2914\u001b[0m        \u001b[35m1.2771\u001b[0m  0.5220\n",
            "     48  0.0380        2.5199        1.7764  0.5337\n",
            "     49  0.0328        2.6324        1.3660  0.5400\n",
            "     50  \u001b[36m0.0313\u001b[0m        \u001b[32m2.1641\u001b[0m        \u001b[35m1.2298\u001b[0m  0.5299\n",
            "     51  0.0379        2.4076        1.7460  0.5343\n",
            "     52  0.0328        2.4449        1.3320  0.5409\n",
            "     53  0.0400        2.3967        2.0206  0.5351\n",
            "     54  0.0370        2.1895        1.6805  0.5416\n",
            "     55  0.0320        2.8392        1.2693  0.5289\n",
            "     56  0.0477        \u001b[32m1.8264\u001b[0m        2.8553  0.5254\n",
            "     57  0.0375        \u001b[32m1.7083\u001b[0m        1.7486  0.5378\n",
            "     58  0.0530        2.1124        3.5397  0.5339\n",
            "     59  0.0409        2.0668        2.0926  0.5410\n",
            "     60  0.0340        1.8657        1.4397  0.5516\n",
            "     61  0.0364        2.2303        1.6154  0.5330\n",
            "     62  0.0417        2.7521        2.1559  0.5447\n",
            "     63  0.0369        \u001b[32m1.6352\u001b[0m        1.7118  0.6240\n",
            "     64  0.0484        2.2625        2.8240  0.5384\n",
            "     65  0.0437        1.8359        2.3931  0.5486\n",
            "     66  0.0548        \u001b[32m1.6226\u001b[0m        3.7390  0.5481\n",
            "     67  \u001b[36m0.0261\u001b[0m        2.0570        \u001b[35m0.8449\u001b[0m  0.5443\n",
            "     68  0.0290        2.3434        1.0604  0.5571\n",
            "     69  \u001b[36m0.0259\u001b[0m        \u001b[32m1.4354\u001b[0m        \u001b[35m0.8299\u001b[0m  0.5345\n",
            "     70  0.0276        2.2034        0.9595  0.5400\n",
            "     71  0.0266        1.5636        0.8797  0.5225\n",
            "     72  \u001b[36m0.0235\u001b[0m        2.0656        \u001b[35m0.6943\u001b[0m  0.5314\n",
            "     73  0.0333        \u001b[32m1.2628\u001b[0m        1.3989  0.5381\n",
            "     74  0.0252        \u001b[32m1.2026\u001b[0m        0.7992  0.5267\n",
            "     75  0.0705        1.5610        6.0752  0.5294\n",
            "     76  0.0294        2.3663        1.0837  0.5254\n",
            "     77  0.0291        2.3588        1.0369  0.5335\n",
            "     78  0.0280        1.2604        0.9833  0.5299\n",
            "     79  0.0347        1.2959        1.4823  0.5509\n",
            "     80  \u001b[36m0.0216\u001b[0m        1.6686        \u001b[35m0.5861\u001b[0m  0.5272\n",
            "     81  0.0317        \u001b[32m0.8356\u001b[0m        1.2757  0.5439\n",
            "     82  0.0230        1.0280        0.6753  0.5222\n",
            "     83  0.0445        1.0370        2.4995  0.5335\n",
            "     84  0.0263        1.3133        0.8717  0.5356\n",
            "     85  0.0274        1.4169        0.9512  0.5276\n",
            "     86  0.0341        0.9880        1.4532  0.5336\n",
            "     87  0.0323        1.1534        1.3235  0.5334\n",
            "     88  \u001b[36m0.0202\u001b[0m        1.1443        \u001b[35m0.5222\u001b[0m  0.5376\n",
            "     89  0.0401        1.6039        1.9231  0.5240\n",
            "     90  0.0220        2.0592        0.6112  0.5377\n",
            "     91  0.0260        1.3975        0.8463  0.5286\n",
            "     92  0.0249        0.8408        0.7890  0.5342\n",
            "     93  0.0319        0.8831        1.2817  0.5272\n",
            "     94  0.0409        1.3714        2.1053  0.5332\n",
            "     95  0.0289        1.2928        1.0609  0.5458\n",
            "     96  0.0314        \u001b[32m0.8224\u001b[0m        1.2301  0.5270\n",
            "     97  0.0318        1.4869        1.2159  0.5350\n",
            "     98  0.0296        1.8763        1.0963  0.5651\n",
            "     99  0.0353        1.0011        1.5533  0.5379\n",
            "    100  0.0407        1.5265        1.9752  0.5267\n",
            "    101  0.0256        1.4572        0.8136  0.5475\n",
            "    102  0.0291        0.8976        1.0638  0.5289\n",
            "    103  0.0251        1.0291        0.8051  0.5301\n",
            "    104  \u001b[36m0.0200\u001b[0m        0.8560        \u001b[35m0.5101\u001b[0m  0.5297\n",
            "    105  0.0249        0.8485        0.7877  0.5274\n",
            "    106  \u001b[36m0.0159\u001b[0m        \u001b[32m0.7656\u001b[0m        \u001b[35m0.3222\u001b[0m  0.5524\n",
            "    107  0.0289        1.8163        1.0212  0.5231\n",
            "    108  0.0674        1.1661        5.5134  0.5395\n",
            "    109  0.0259        0.9429        0.8630  0.5261\n",
            "    110  0.0229        1.1077        0.6588  0.5370\n",
            "    111  0.0421        1.0900        2.2419  0.5293\n",
            "    112  0.0357        1.6989        1.6139  0.5354\n",
            "    113  0.0326        1.5881        1.2959  0.5340\n",
            "    114  0.0316        1.4826        1.2662  0.5303\n",
            "    115  0.0304        1.6312        1.1505  0.5376\n",
            "    116  0.0379        2.1645        1.7988  0.5479\n",
            "    117  0.0411        1.4347        2.1042  0.5601\n",
            "    118  0.0395        1.6321        1.9067  0.5236\n",
            "    119  0.0538        1.7996        3.4770  0.5378\n",
            "    120  0.0318        1.6208        1.2277  0.5308\n",
            "    121  0.0329        1.3717        1.3052  0.5488\n",
            "    122  0.0293        1.0842        1.0265  0.5388\n",
            "    123  0.0577        1.7155        4.0756  0.5395\n",
            "    124  0.0253        1.4806        0.8088  0.5431\n",
            "    125  0.0737        1.7335        6.6587  0.5349\n",
            "    126  0.0416        3.5774        2.1634  0.5503\n",
            "    127  0.0396        2.2054        1.9181  0.5486\n",
            "    128  0.0377        1.9867        1.7388  0.5431\n",
            "    129  0.0373        2.0309        1.7241  0.5410\n",
            "    130  0.0382        2.2939        1.8121  0.5325\n",
            "    131  0.0390        1.5483        1.8364  0.5437\n",
            "    132  0.0382        1.6636        1.7924  0.5316\n",
            "    133  0.0335        1.4967        1.3846  0.5360\n",
            "    134  0.0425        1.7257        2.2531  0.5305\n",
            "    135  0.0361        1.6352        1.6377  0.5461\n",
            "    136  0.0411        1.7593        2.0397  0.5306\n",
            "    137  0.0333        1.4163        1.3744  0.5413\n",
            "    138  0.0295        1.1375        1.0807  0.5371\n",
            "    139  0.0284        1.1998        0.9820  0.5311\n",
            "    140  0.0423        1.4278        2.2358  0.5416\n",
            "    141  0.0306        1.2191        1.1646  0.5328\n",
            "    142  0.0332        1.2392        1.3879  0.5376\n",
            "    143  0.0273        1.2379        0.9306  0.5402\n",
            "    144  0.0247        1.0127        0.7487  0.5449\n",
            "    145  0.0263        0.8796        0.8531  0.5319\n",
            "    146  0.0277        1.5235        0.9656  0.5290\n",
            "    147  0.0285        1.0887        1.0076  0.5470\n",
            "    148  0.0265        0.9453        0.8604  0.5280\n",
            "    149  0.0312        1.4125        1.1995  0.5343\n",
            "    150  0.0239        1.0252        0.7069  0.5327\n",
            "    151  0.0274        0.9664        0.9036  0.5513\n",
            "    152  0.0261        0.9455        0.8263  0.5277\n",
            "    153  0.0526        1.5248        3.3613  0.5304\n",
            "    154  0.0255        1.3012        0.8190  0.5357\n",
            "    155  0.0252        0.8925        0.7729  0.5242\n",
            "    156  0.0251        0.9020        0.7681  0.5422\n",
            "    157  0.0277        0.8810        0.9403  0.5321\n",
            "    158  0.0315        1.3421        1.2240  0.5396\n",
            "    159  0.0711       16.2449        6.0944  0.5306\n",
            "    160  0.0624        5.1327        4.8776  0.5372\n",
            "    161  0.0355        3.1151        1.6031  0.5372\n",
            "    162  0.0292        1.9697        1.0762  0.5386\n",
            "    163  0.0467        3.3454        2.7520  0.5358\n",
            "    164  0.0314        1.8213        1.2247  0.5314\n",
            "    165  0.0264        1.4885        0.8786  0.5272\n",
            "    166  0.0281        1.8549        0.9994  0.5278\n",
            "    167  0.0263        1.4261        0.8649  0.5268\n",
            "    168  0.0262        1.5163        0.8596  0.5381\n",
            "    169  0.0260        1.5740        0.8518  0.5329\n",
            "    170  0.0248        1.3873        0.7749  0.5319\n",
            "    171  0.0248        1.3766        0.7703  0.5332\n",
            "    172  0.0246        1.2631        0.7578  0.5313\n",
            "    173  0.0272        1.1646        0.9153  0.5431\n",
            "    174  0.0264        1.1621        0.8643  0.5434\n",
            "    175  0.0247        1.1382        0.7581  0.5351\n",
            "    176  0.0237        1.0104        0.7040  0.5341\n",
            "    177  0.0269        1.1154        0.9157  0.5410\n",
            "    178  0.0229        1.0255        0.6605  0.5422\n",
            "    179  0.0294        1.1844        1.0837  0.5336\n",
            "    180  0.0231        1.0647        0.6761  0.5233\n",
            "    181  0.0239        1.0027        0.7164  0.5323\n",
            "    182  0.0329        1.1867        1.3448  0.5331\n",
            "    183  0.0253        1.0609        0.8075  0.5330\n",
            "    184  0.0272        1.0946        0.9291  0.5469\n",
            "    185  0.0283        1.0877        1.0000  0.5292\n",
            "    186  0.0260        1.0173        0.8474  0.5390\n",
            "    187  0.0221        1.0386        0.6131  0.5377\n",
            "    188  0.0298        1.1012        1.1036  0.5452\n",
            "    189  0.0248        0.9799        0.7742  0.5386\n",
            "    190  0.0222        0.9740        0.6184  0.5488\n",
            "    191  0.0328        0.8015        1.3125  0.5339\n",
            "    192  0.0377        0.9536        1.7425  0.5308\n",
            "    193  0.0290        1.2998        1.0367  0.5361\n",
            "    194  0.0279        0.9469        0.9556  0.5392\n",
            "    195  0.0351        0.9875        1.4884  0.5479\n",
            "    196  0.0384        1.0185        1.7949  0.5304\n",
            "    197  0.0249        0.9955        0.7562  0.5228\n",
            "    198  0.0288        0.9118        1.0109  0.5300\n",
            "    199  0.0260        1.0247        0.8250  0.5384\n",
            "    200  0.0237        0.9580        0.6926  0.5407\n",
            "Calculating violation rate.\n",
            "100% 1550/1550 [01:04<00:00, 24.18it/s]\n",
            "1550\n",
            "Cost ratio 1.0006284448453218 | Rate with violation 1550 | Violation Rate 0.010687054880603267\n",
            "RMS: 0.022775519639253616 | L1: 2.6422371864318848 | Linf: 0.7920769453048706\n"
          ],
          "name": "stdout"
        }
      ]
    },
    {
      "cell_type": "code",
      "metadata": {
        "id": "xr-DlCiqqwLS"
      },
      "source": [
        ""
      ],
      "execution_count": null,
      "outputs": []
    }
  ]
}